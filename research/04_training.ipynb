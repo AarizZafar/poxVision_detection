{
 "cells": [
  {
   "cell_type": "code",
   "execution_count": 3,
   "metadata": {},
   "outputs": [],
   "source": [
    "import os\n",
    "import sys\n",
    "import time\n",
    "from dataclasses import dataclass\n",
    "import urllib.request as request \n",
    "from zipfile import ZipFile\n",
    "import tensorflow as tf\n",
    "from pathlib import Path\n",
    "from poxVisionDetection.constants import *\n",
    "from poxVisionDetection.utils.common import read_yaml,create_directory\n",
    "from poxVisionDetection import CustomException,logging\n",
    "import matplotlib.pyplot as plt"
   ]
  },
  {
   "cell_type": "code",
   "execution_count": 4,
   "metadata": {},
   "outputs": [],
   "source": [
    "# os.chdir('d:\\\\codes\\\\DeepLearning_Proj\\\\poxVision_detection\\\\research')"
   ]
  },
  {
   "cell_type": "code",
   "execution_count": 5,
   "metadata": {},
   "outputs": [
    {
     "data": {
      "text/plain": [
       "'d:\\\\codes\\\\DeepLearning_Proj\\\\poxVision_detection'"
      ]
     },
     "execution_count": 5,
     "metadata": {},
     "output_type": "execute_result"
    }
   ],
   "source": [
    "os.chdir('../')\n",
    "%pwd"
   ]
  },
  {
   "cell_type": "code",
   "execution_count": 6,
   "metadata": {},
   "outputs": [],
   "source": [
    "@dataclass(frozen = True)\n",
    "class TrainingConfig:\n",
    "    root_dir                    : Path\n",
    "    training_model_path         : Path\n",
    "    updated_base_model_path     : Path\n",
    "    training_data               : Path\n",
    "    params_epochs               : int\n",
    "    params_batch_size           : int\n",
    "    params_is_augmentation      : bool\n",
    "    params_image_size           : list\n",
    "\n",
    "@dataclass(frozen = True)\n",
    "class PrepareCallbacksConfig:\n",
    "    root_dir                    : Path\n",
    "    tensorboard_root_log_dir    : Path\n",
    "    checkpoint_model_filepath   : Path"
   ]
  },
  {
   "cell_type": "code",
   "execution_count": 7,
   "metadata": {},
   "outputs": [],
   "source": [
    "class ConfigurationManager:\n",
    "    def __init__(\n",
    "        self,\n",
    "        config_filepath               = CONFIG_FILE_PATH,\n",
    "        params_filepath               = PARAMS_FILE_PATH):\n",
    "\n",
    "        self.config                   = read_yaml(config_filepath)\n",
    "        self.params                   = read_yaml(params_filepath)\n",
    "\n",
    "        create_directory([self.config.artifacts_root])\n",
    "\n",
    "    def get_prepare_callbacks_config(self) -> PrepareCallbacksConfig:\n",
    "        config                        = self.config.prepare_callbacks\n",
    "        model_ckpt_dir                = os.path.dirname(config.checkpoint_model_filepath)\n",
    "\n",
    "        create_directory([\n",
    "            Path(model_ckpt_dir),\n",
    "            Path(config.tensorboard_root_log_dir)\n",
    "        ])\n",
    "\n",
    "        prepare_callback_config       = PrepareCallbacksConfig(\n",
    "            root_dir                  = Path(config.root_dir),\n",
    "            tensorboard_root_log_dir  = Path(config.tensorboard_root_log_dir),\n",
    "            checkpoint_model_filepath = Path(config.checkpoint_model_filepath)\n",
    "        )\n",
    "\n",
    "        return prepare_callback_config\n",
    "    \n",
    "    def get_training_config(self) -> TrainingConfig:\n",
    "        training                      = self.config.training\n",
    "        prepare_base_model            = self.config.prepare_base_model\n",
    "        params                        = self.params\n",
    "\n",
    "        training_data = os.path.join(self.config.data_ingestion.unzip_dir, 'poxVisionDataSet')\n",
    "        create_directory([Path(training.root_dir)])\n",
    "\n",
    "        training_config               = TrainingConfig(\n",
    "            root_dir                  = Path(training.root_dir),\n",
    "            training_model_path       = Path(training.trained_model_path),\n",
    "            updated_base_model_path   = Path(prepare_base_model.updated_base_model_path),\n",
    "            training_data             = Path(training_data),\n",
    "            params_epochs             = params.EPOCHS,\n",
    "            params_batch_size         = params.BATCH_SIZE,\n",
    "            params_is_augmentation    = params.AUGMENTATION,\n",
    "            params_image_size         = params.IMAGE_SIZE\n",
    "        )\n",
    "\n",
    "        return training_config"
   ]
  },
  {
   "cell_type": "code",
   "execution_count": 8,
   "metadata": {},
   "outputs": [],
   "source": [
    "class PrepareCallback:\n",
    "    def __init__(self, config : PrepareCallbacksConfig):\n",
    "        self.config = config\n",
    "\n",
    "    @property\n",
    "    def _create_tb_callbacks(self):\n",
    "        timestamp = time.strftime(\"%Y-%m-%d-%H-%M-%S\")\n",
    "        tb_running_log_dir = os.path.join(\n",
    "            self.config.tensorboard_root_log_dir,\n",
    "            f'tb_log_at_{timestamp}'\n",
    "        )\n",
    "        return tf.keras.callbacks.TensorBoard(log_dir = tb_running_log_dir)\n",
    "    \n",
    "    @property\n",
    "    def _create_ckpt_callbacks(self):\n",
    "        return tf.keras.callbacks.ModelCheckpoint(\n",
    "            filepath       = 'artifacts\\prepare_callbacks\\checkpoint_dir\\model.h5',\n",
    "            save_best_only = True\n",
    "        )\n",
    "    \n",
    "    def get_tb_ckpt_callbacks(self):\n",
    "        return [\n",
    "            self._create_tb_callbacks,\n",
    "            self._create_ckpt_callbacks\n",
    "        ]"
   ]
  },
  {
   "cell_type": "code",
   "execution_count": 11,
   "metadata": {},
   "outputs": [],
   "source": [
    "class Training:\n",
    "    def __init__(self, config : TrainingConfig):\n",
    "        self.config = config\n",
    "\n",
    "    def get_base_model(self):\n",
    "        # LOADING THE UPDATED BASE MODEL\n",
    "        self.model = tf.keras.models.load_model(\n",
    "            self.config.updated_base_model_path\n",
    "        )\n",
    "\n",
    "    def training_valid_generator(self):\n",
    "        valid_datagenerator         = tf.keras.preprocessing.image.ImageDataGenerator(\n",
    "            rescale                    = 1.0/255,\n",
    "            validation_split           = 0.20,\n",
    "        )\n",
    "\n",
    "        # THIS VALID GENERATOR IS CREATED FOR VALIDATION COMPLETELY NEW SET OF IMAGES\n",
    "        self.valid_generator        = valid_datagenerator.flow_from_directory(\n",
    "            directory                  = self.config.training_data,\n",
    "            target_size                = self.config.params_image_size[:-1],\n",
    "            batch_size                 = self.config.params_batch_size,\n",
    "            interpolation              = 'bilinear',       \n",
    "            subset                     = 'validation',\n",
    "            shuffle                    = False,\n",
    "        )\n",
    "\n",
    "        if self.config.params_is_augmentation:\n",
    "            train_generator         = tf.keras.preprocessing.image.ImageDataGenerator(\n",
    "                rescale                = 1.0/255,\n",
    "                validation_split       = 0.2,\n",
    "                rotation_range         = 40,\n",
    "                horizontal_flip        = True,\n",
    "                width_shift_range      = 0.2,\n",
    "                height_shift_range     = 0.2,\n",
    "                shear_range            = 0.2,\n",
    "                zoom_range             = 0.2,\n",
    "            )\n",
    "        else:\n",
    "            train_generator            = valid_datagenerator\n",
    "\n",
    "        # THIS GENERATOR IS MADE FOR TRAINING \n",
    "        self.train_generator        = train_generator.flow_from_directory(\n",
    "            target_size                 = self.config.params_image_size[:-1],\n",
    "            batch_size                  = self.config.params_batch_size,\n",
    "            directory                   = self.config.training_data,\n",
    "            interpolation               = 'bilinear',\n",
    "            subset                      = 'training',\n",
    "            shuffle                     = True,\n",
    "        )\n",
    "\n",
    "    def train(self, callback_list : list):\n",
    "        self.steps_per_epoch         = self.train_generator.samples // self.train_generator.batch_size\n",
    "        self.validation_steps        = self.valid_generator.samples // self.valid_generator.batch_size\n",
    "\n",
    "        trained_model = self.model.fit(\n",
    "            self.train_generator,\n",
    "            epochs                       = self.config.params_epochs,\n",
    "            steps_per_epoch              = self.steps_per_epoch,\n",
    "            validation_steps             = self.validation_steps,\n",
    "            validation_data              = self.valid_generator,\n",
    "            callbacks                    = callback_list\n",
    "        )\n",
    "\n",
    "        self.save_model(\n",
    "            path                     = self.config.training_model_path,\n",
    "            model                    = self.model\n",
    "        )\n",
    "        \n",
    "        return trained_model\n",
    "\n",
    "    def train_model_status(self, callback_list: list):\n",
    "        trained_model = self.train(callback_list)\n",
    "        plt.plot(trained_model.history['accuracy'])\n",
    "        plt.plot(trained_model.history['val_accuracy'])\n",
    "        plt.axis(ymin=0.4,ymax=1)\n",
    "        plt.grid()\n",
    "        plt.title('Model Accuracy')\n",
    "        plt.ylabel('Accuracy')\n",
    "        plt.xlabel('Epochs')\n",
    "        plt.legend(['train','validation'])\n",
    "        plt.show()\n",
    "\n",
    "    @staticmethod\n",
    "    def save_model(path : Path, model : tf.keras.Model):\n",
    "        model.save(path)"
   ]
  },
  {
   "cell_type": "code",
   "execution_count": 12,
   "metadata": {},
   "outputs": [
    {
     "name": "stdout",
     "output_type": "stream",
     "text": [
      "[2023-11-12 16:06:44,835] 31 root - INFO - YAML FILE {path_to_yaml} LOADED SUCCESSFULLY \n",
      "[2023-11-12 16:06:44,838] 31 root - INFO - YAML FILE {path_to_yaml} LOADED SUCCESSFULLY \n",
      "[2023-11-12 16:06:44,840] 47 root - INFO - CREATED DIRECTORY AT : artifacts\n",
      "[2023-11-12 16:06:44,841] 47 root - INFO - CREATED DIRECTORY AT : artifacts\\prepare_callbacks\\checkpoint_dir\n",
      "[2023-11-12 16:06:44,843] 47 root - INFO - CREATED DIRECTORY AT : artifacts\\prepare_callbacks\\tensorflow_log_dir\n",
      "[2023-11-12 16:06:44,847] 47 root - INFO - CREATED DIRECTORY AT : artifacts\\training\n",
      "Found 45 images belonging to 2 classes.\n",
      "Found 183 images belonging to 2 classes.\n",
      "Epoch 1/2\n",
      "12/12 [==============================] - 16s 1s/step - loss: 175.8001 - accuracy: 0.4821 - val_loss: 153.4229 - val_accuracy: 0.4444\n",
      "Epoch 2/2\n",
      "12/12 [==============================] - 17s 1s/step - loss: 195.5914 - accuracy: 0.4524 - val_loss: 171.1024 - val_accuracy: 0.5556\n"
     ]
    },
    {
     "data": {
      "image/png": "[encoded data removed]",
      "text/plain": [
       "<Figure size 640x480 with 1 Axes>"
      ]
     },
     "metadata": {},
     "output_type": "display_data"
    }
   ],
   "source": [
    "try:\n",
    "    config                        = ConfigurationManager()\n",
    "    prepare_callbacks_config      = config.get_prepare_callbacks_config()\n",
    "    prepare_callbacks             = PrepareCallback(config = prepare_callbacks_config)\n",
    "    callback_list                 = prepare_callbacks.get_tb_ckpt_callbacks()\n",
    "    training_config               = config.get_training_config()\n",
    "    training                      = Training(config = training_config)\n",
    "\n",
    "    training.get_base_model()\n",
    "    training.training_valid_generator()\n",
    "\n",
    "    training.train_model_status(\n",
    "        callback_list=callback_list\n",
    "    )\n",
    "\n",
    "except Exception as e:\n",
    "    logging.exception(CustomException(e,sys))"
   ]
  },
  {
   "cell_type": "code",
   "execution_count": null,
   "metadata": {},
   "outputs": [],
   "source": []
  },
  {
   "cell_type": "code",
   "execution_count": null,
   "metadata": {},
   "outputs": [],
   "source": []
  }
 ],
 "metadata": {
  "kernelspec": {
   "display_name": "poxvision_ven",
   "language": "python",
   "name": "python3"
  },
  "language_info": {
   "codemirror_mode": {
    "name": "ipython",
    "version": 3
   },
   "file_extension": ".py",
   "mimetype": "text/x-python",
   "name": "python",
   "nbconvert_exporter": "python",
   "pygments_lexer": "ipython3",
   "version": "3.11.4"
  }
 },
 "nbformat": 4,
 "nbformat_minor": 2
}
